{
 "cells": [
  {
   "cell_type": "code",
   "execution_count": 34,
   "metadata": {},
   "outputs": [
    {
     "name": "stdout",
     "output_type": "stream",
     "text": [
      "Hello\n"
     ]
    }
   ],
   "source": [
    "print(\"Hello\")"
   ]
  },
  {
   "cell_type": "code",
   "execution_count": 35,
   "metadata": {},
   "outputs": [],
   "source": [
    "import pandas as pd"
   ]
  },
  {
   "cell_type": "code",
   "execution_count": 36,
   "metadata": {},
   "outputs": [],
   "source": [
    "df = pd.read_csv(r\"E:\\elevatetrsest\\dataset\\price_wheat_daily.csv\")"
   ]
  },
  {
   "cell_type": "code",
   "execution_count": 37,
   "metadata": {},
   "outputs": [
    {
     "data": {
      "text/html": [
       "<div>\n",
       "<style scoped>\n",
       "    .dataframe tbody tr th:only-of-type {\n",
       "        vertical-align: middle;\n",
       "    }\n",
       "\n",
       "    .dataframe tbody tr th {\n",
       "        vertical-align: top;\n",
       "    }\n",
       "\n",
       "    .dataframe thead th {\n",
       "        text-align: right;\n",
       "    }\n",
       "</style>\n",
       "<table border=\"1\" class=\"dataframe\">\n",
       "  <thead>\n",
       "    <tr style=\"text-align: right;\">\n",
       "      <th></th>\n",
       "      <th>date</th>\n",
       "      <th>district_id</th>\n",
       "      <th>district_name</th>\n",
       "      <th>commodity_name</th>\n",
       "      <th>state_name</th>\n",
       "      <th>avg_modal_price</th>\n",
       "      <th>avg_min_price</th>\n",
       "      <th>avg_max_price</th>\n",
       "      <th>calculationType</th>\n",
       "      <th>change</th>\n",
       "    </tr>\n",
       "  </thead>\n",
       "  <tbody>\n",
       "    <tr>\n",
       "      <th>0</th>\n",
       "      <td>2025-03-07</td>\n",
       "      <td>497</td>\n",
       "      <td>Nandurbar</td>\n",
       "      <td>Wheat</td>\n",
       "      <td>Maharashtra</td>\n",
       "      <td>2673.0</td>\n",
       "      <td>2525.5</td>\n",
       "      <td>2716.00</td>\n",
       "      <td>Daily</td>\n",
       "      <td>100.5</td>\n",
       "    </tr>\n",
       "    <tr>\n",
       "      <th>1</th>\n",
       "      <td>2025-03-06</td>\n",
       "      <td>497</td>\n",
       "      <td>Nandurbar</td>\n",
       "      <td>Wheat</td>\n",
       "      <td>Maharashtra</td>\n",
       "      <td>2572.5</td>\n",
       "      <td>2470.0</td>\n",
       "      <td>2710.50</td>\n",
       "      <td>Daily</td>\n",
       "      <td>-61.5</td>\n",
       "    </tr>\n",
       "    <tr>\n",
       "      <th>2</th>\n",
       "      <td>2025-03-05</td>\n",
       "      <td>497</td>\n",
       "      <td>Nandurbar</td>\n",
       "      <td>Wheat</td>\n",
       "      <td>Maharashtra</td>\n",
       "      <td>2634.0</td>\n",
       "      <td>2500.0</td>\n",
       "      <td>2740.00</td>\n",
       "      <td>Daily</td>\n",
       "      <td>147.5</td>\n",
       "    </tr>\n",
       "    <tr>\n",
       "      <th>3</th>\n",
       "      <td>2025-03-04</td>\n",
       "      <td>497</td>\n",
       "      <td>Nandurbar</td>\n",
       "      <td>Wheat</td>\n",
       "      <td>Maharashtra</td>\n",
       "      <td>2486.5</td>\n",
       "      <td>2390.5</td>\n",
       "      <td>2628.75</td>\n",
       "      <td>Daily</td>\n",
       "      <td>-238.5</td>\n",
       "    </tr>\n",
       "    <tr>\n",
       "      <th>4</th>\n",
       "      <td>2025-03-03</td>\n",
       "      <td>497</td>\n",
       "      <td>Nandurbar</td>\n",
       "      <td>Wheat</td>\n",
       "      <td>Maharashtra</td>\n",
       "      <td>2725.0</td>\n",
       "      <td>2492.0</td>\n",
       "      <td>2778.00</td>\n",
       "      <td>Daily</td>\n",
       "      <td>-31.5</td>\n",
       "    </tr>\n",
       "  </tbody>\n",
       "</table>\n",
       "</div>"
      ],
      "text/plain": [
       "         date  district_id district_name commodity_name   state_name  \\\n",
       "0  2025-03-07          497     Nandurbar          Wheat  Maharashtra   \n",
       "1  2025-03-06          497     Nandurbar          Wheat  Maharashtra   \n",
       "2  2025-03-05          497     Nandurbar          Wheat  Maharashtra   \n",
       "3  2025-03-04          497     Nandurbar          Wheat  Maharashtra   \n",
       "4  2025-03-03          497     Nandurbar          Wheat  Maharashtra   \n",
       "\n",
       "   avg_modal_price  avg_min_price  avg_max_price calculationType  change  \n",
       "0           2673.0         2525.5        2716.00           Daily   100.5  \n",
       "1           2572.5         2470.0        2710.50           Daily   -61.5  \n",
       "2           2634.0         2500.0        2740.00           Daily   147.5  \n",
       "3           2486.5         2390.5        2628.75           Daily  -238.5  \n",
       "4           2725.0         2492.0        2778.00           Daily   -31.5  "
      ]
     },
     "execution_count": 37,
     "metadata": {},
     "output_type": "execute_result"
    }
   ],
   "source": [
    "df.head()"
   ]
  },
  {
   "cell_type": "code",
   "execution_count": 38,
   "metadata": {},
   "outputs": [
    {
     "name": "stdout",
     "output_type": "stream",
     "text": [
      "<class 'pandas.core.frame.DataFrame'>\n",
      "RangeIndex: 30501 entries, 0 to 30500\n",
      "Data columns (total 10 columns):\n",
      " #   Column           Non-Null Count  Dtype  \n",
      "---  ------           --------------  -----  \n",
      " 0   date             30501 non-null  object \n",
      " 1   district_id      30501 non-null  int64  \n",
      " 2   district_name    30501 non-null  object \n",
      " 3   commodity_name   30501 non-null  object \n",
      " 4   state_name       30501 non-null  object \n",
      " 5   avg_modal_price  30501 non-null  float64\n",
      " 6   avg_min_price    30501 non-null  float64\n",
      " 7   avg_max_price    30501 non-null  float64\n",
      " 8   calculationType  30501 non-null  object \n",
      " 9   change           30470 non-null  float64\n",
      "dtypes: float64(4), int64(1), object(5)\n",
      "memory usage: 2.3+ MB\n"
     ]
    }
   ],
   "source": [
    "df.info()"
   ]
  },
  {
   "cell_type": "code",
   "execution_count": 39,
   "metadata": {},
   "outputs": [],
   "source": [
    "\n",
    "df['date_n'] = pd.to_datetime(df['date']).dt.day\n",
    "df['month'] = pd.to_datetime(df['date']).dt.month\n",
    "df['year'] = pd.to_datetime(df['date']).dt.year\n",
    "\n",
    "df.drop('date', axis=1, inplace=True)\n",
    "df['date'] = df['date_n']\n",
    "df.drop('date_n', axis=1, inplace=True)"
   ]
  },
  {
   "cell_type": "markdown",
   "metadata": {},
   "source": [
    "filling null values"
   ]
  },
  {
   "cell_type": "code",
   "execution_count": 40,
   "metadata": {},
   "outputs": [
    {
     "name": "stderr",
     "output_type": "stream",
     "text": [
      "C:\\Users\\Shiva\\AppData\\Local\\Temp\\ipykernel_541760\\2572123431.py:1: FutureWarning: Setting an item of incompatible dtype is deprecated and will raise an error in a future version of pandas. Value 'interpolate' has dtype incompatible with float64, please explicitly cast to a compatible dtype first.\n",
      "  df.fillna('interpolate' , inplace=True)\n"
     ]
    }
   ],
   "source": [
    " df.fillna('interpolate' , inplace=True)"
   ]
  },
  {
   "cell_type": "code",
   "execution_count": 41,
   "metadata": {},
   "outputs": [
    {
     "name": "stdout",
     "output_type": "stream",
     "text": [
      "<class 'pandas.core.frame.DataFrame'>\n",
      "RangeIndex: 30501 entries, 0 to 30500\n",
      "Data columns (total 12 columns):\n",
      " #   Column           Non-Null Count  Dtype  \n",
      "---  ------           --------------  -----  \n",
      " 0   district_id      30501 non-null  int64  \n",
      " 1   district_name    30501 non-null  object \n",
      " 2   commodity_name   30501 non-null  object \n",
      " 3   state_name       30501 non-null  object \n",
      " 4   avg_modal_price  30501 non-null  float64\n",
      " 5   avg_min_price    30501 non-null  float64\n",
      " 6   avg_max_price    30501 non-null  float64\n",
      " 7   calculationType  30501 non-null  object \n",
      " 8   change           30501 non-null  object \n",
      " 9   month            30501 non-null  int32  \n",
      " 10  year             30501 non-null  int32  \n",
      " 11  date             30501 non-null  int32  \n",
      "dtypes: float64(3), int32(3), int64(1), object(5)\n",
      "memory usage: 2.4+ MB\n"
     ]
    }
   ],
   "source": [
    "df.info()"
   ]
  },
  {
   "cell_type": "markdown",
   "metadata": {},
   "source": [
    "frequency encoding "
   ]
  },
  {
   "cell_type": "markdown",
   "metadata": {},
   "source": [
    "removing unwanted columns"
   ]
  },
  {
   "cell_type": "code",
   "execution_count": 42,
   "metadata": {},
   "outputs": [],
   "source": [
    "columns = ['district_name' , 'commodity_name' , 'state_name']\n",
    "\n",
    "for col in columns:\n",
    "    frequency_encoding = df[col].value_counts()\n",
    "    df[f'{col}_enc'] = df[col].map(frequency_encoding)\n",
    "\n",
    "df.drop(columns=columns , axis=1 , inplace=True)\n",
    "df.drop(columns=['calculationType' , 'district_id' , 'change'] , axis=1 , inplace=True)"
   ]
  },
  {
   "cell_type": "code",
   "execution_count": 43,
   "metadata": {},
   "outputs": [
    {
     "data": {
      "text/html": [
       "<div>\n",
       "<style scoped>\n",
       "    .dataframe tbody tr th:only-of-type {\n",
       "        vertical-align: middle;\n",
       "    }\n",
       "\n",
       "    .dataframe tbody tr th {\n",
       "        vertical-align: top;\n",
       "    }\n",
       "\n",
       "    .dataframe thead th {\n",
       "        text-align: right;\n",
       "    }\n",
       "</style>\n",
       "<table border=\"1\" class=\"dataframe\">\n",
       "  <thead>\n",
       "    <tr style=\"text-align: right;\">\n",
       "      <th></th>\n",
       "      <th>avg_modal_price</th>\n",
       "      <th>avg_min_price</th>\n",
       "      <th>avg_max_price</th>\n",
       "      <th>month</th>\n",
       "      <th>year</th>\n",
       "      <th>date</th>\n",
       "      <th>district_name_enc</th>\n",
       "      <th>commodity_name_enc</th>\n",
       "      <th>state_name_enc</th>\n",
       "    </tr>\n",
       "  </thead>\n",
       "  <tbody>\n",
       "    <tr>\n",
       "      <th>0</th>\n",
       "      <td>2673.0</td>\n",
       "      <td>2525.5</td>\n",
       "      <td>2716.00</td>\n",
       "      <td>3</td>\n",
       "      <td>2025</td>\n",
       "      <td>7</td>\n",
       "      <td>981</td>\n",
       "      <td>30501</td>\n",
       "      <td>30501</td>\n",
       "    </tr>\n",
       "    <tr>\n",
       "      <th>1</th>\n",
       "      <td>2572.5</td>\n",
       "      <td>2470.0</td>\n",
       "      <td>2710.50</td>\n",
       "      <td>3</td>\n",
       "      <td>2025</td>\n",
       "      <td>6</td>\n",
       "      <td>981</td>\n",
       "      <td>30501</td>\n",
       "      <td>30501</td>\n",
       "    </tr>\n",
       "    <tr>\n",
       "      <th>2</th>\n",
       "      <td>2634.0</td>\n",
       "      <td>2500.0</td>\n",
       "      <td>2740.00</td>\n",
       "      <td>3</td>\n",
       "      <td>2025</td>\n",
       "      <td>5</td>\n",
       "      <td>981</td>\n",
       "      <td>30501</td>\n",
       "      <td>30501</td>\n",
       "    </tr>\n",
       "    <tr>\n",
       "      <th>3</th>\n",
       "      <td>2486.5</td>\n",
       "      <td>2390.5</td>\n",
       "      <td>2628.75</td>\n",
       "      <td>3</td>\n",
       "      <td>2025</td>\n",
       "      <td>4</td>\n",
       "      <td>981</td>\n",
       "      <td>30501</td>\n",
       "      <td>30501</td>\n",
       "    </tr>\n",
       "    <tr>\n",
       "      <th>4</th>\n",
       "      <td>2725.0</td>\n",
       "      <td>2492.0</td>\n",
       "      <td>2778.00</td>\n",
       "      <td>3</td>\n",
       "      <td>2025</td>\n",
       "      <td>3</td>\n",
       "      <td>981</td>\n",
       "      <td>30501</td>\n",
       "      <td>30501</td>\n",
       "    </tr>\n",
       "  </tbody>\n",
       "</table>\n",
       "</div>"
      ],
      "text/plain": [
       "   avg_modal_price  avg_min_price  avg_max_price  month  year  date  \\\n",
       "0           2673.0         2525.5        2716.00      3  2025     7   \n",
       "1           2572.5         2470.0        2710.50      3  2025     6   \n",
       "2           2634.0         2500.0        2740.00      3  2025     5   \n",
       "3           2486.5         2390.5        2628.75      3  2025     4   \n",
       "4           2725.0         2492.0        2778.00      3  2025     3   \n",
       "\n",
       "   district_name_enc  commodity_name_enc  state_name_enc  \n",
       "0                981               30501           30501  \n",
       "1                981               30501           30501  \n",
       "2                981               30501           30501  \n",
       "3                981               30501           30501  \n",
       "4                981               30501           30501  "
      ]
     },
     "execution_count": 43,
     "metadata": {},
     "output_type": "execute_result"
    }
   ],
   "source": [
    "df.head()"
   ]
  },
  {
   "cell_type": "code",
   "execution_count": 44,
   "metadata": {},
   "outputs": [
    {
     "name": "stdout",
     "output_type": "stream",
     "text": [
      "<class 'pandas.core.frame.DataFrame'>\n",
      "RangeIndex: 30501 entries, 0 to 30500\n",
      "Data columns (total 9 columns):\n",
      " #   Column              Non-Null Count  Dtype  \n",
      "---  ------              --------------  -----  \n",
      " 0   avg_modal_price     30501 non-null  float64\n",
      " 1   avg_min_price       30501 non-null  float64\n",
      " 2   avg_max_price       30501 non-null  float64\n",
      " 3   month               30501 non-null  int32  \n",
      " 4   year                30501 non-null  int32  \n",
      " 5   date                30501 non-null  int32  \n",
      " 6   district_name_enc   30501 non-null  int64  \n",
      " 7   commodity_name_enc  30501 non-null  int64  \n",
      " 8   state_name_enc      30501 non-null  int64  \n",
      "dtypes: float64(3), int32(3), int64(3)\n",
      "memory usage: 1.7 MB\n"
     ]
    }
   ],
   "source": [
    "df.info()"
   ]
  },
  {
   "cell_type": "markdown",
   "metadata": {},
   "source": [
    "strategy to tackle the following problem"
   ]
  },
  {
   "cell_type": "code",
   "execution_count": null,
   "metadata": {},
   "outputs": [],
   "source": []
  }
 ],
 "metadata": {
  "kernelspec": {
   "display_name": "tf-clean",
   "language": "python",
   "name": "python3"
  },
  "language_info": {
   "codemirror_mode": {
    "name": "ipython",
    "version": 3
   },
   "file_extension": ".py",
   "mimetype": "text/x-python",
   "name": "python",
   "nbconvert_exporter": "python",
   "pygments_lexer": "ipython3",
   "version": "3.10.16"
  }
 },
 "nbformat": 4,
 "nbformat_minor": 2
}
