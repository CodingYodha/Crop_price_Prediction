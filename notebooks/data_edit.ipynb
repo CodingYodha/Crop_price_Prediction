{
 "cells": [
  {
   "cell_type": "code",
   "execution_count": 32,
   "metadata": {},
   "outputs": [],
   "source": [
    "import pandas as pd"
   ]
  },
  {
   "cell_type": "code",
   "execution_count": 33,
   "metadata": {},
   "outputs": [],
   "source": [
    "df = pd.read_csv(r\"E:\\elevatetrsest\\crop price predictor\\Crop_price_Prediction\\data\\wheat_price_nashik(2024).csv\")"
   ]
  },
  {
   "cell_type": "code",
   "execution_count": 34,
   "metadata": {},
   "outputs": [
    {
     "data": {
      "text/html": [
       "<div>\n",
       "<style scoped>\n",
       "    .dataframe tbody tr th:only-of-type {\n",
       "        vertical-align: middle;\n",
       "    }\n",
       "\n",
       "    .dataframe tbody tr th {\n",
       "        vertical-align: top;\n",
       "    }\n",
       "\n",
       "    .dataframe thead th {\n",
       "        text-align: right;\n",
       "    }\n",
       "</style>\n",
       "<table border=\"1\" class=\"dataframe\">\n",
       "  <thead>\n",
       "    <tr style=\"text-align: right;\">\n",
       "      <th></th>\n",
       "      <th>date</th>\n",
       "      <th>district_id</th>\n",
       "      <th>district_name</th>\n",
       "      <th>commodity_name</th>\n",
       "      <th>state_name</th>\n",
       "      <th>avg_modal_price</th>\n",
       "      <th>avg_min_price</th>\n",
       "      <th>avg_max_price</th>\n",
       "      <th>calculationType</th>\n",
       "      <th>change</th>\n",
       "    </tr>\n",
       "  </thead>\n",
       "  <tbody>\n",
       "    <tr>\n",
       "      <th>0</th>\n",
       "      <td>2024-12-31</td>\n",
       "      <td>516</td>\n",
       "      <td>Nashik</td>\n",
       "      <td>Wheat</td>\n",
       "      <td>Maharashtra</td>\n",
       "      <td>2995.25</td>\n",
       "      <td>2781.00</td>\n",
       "      <td>3216.50</td>\n",
       "      <td>Daily</td>\n",
       "      <td>156.65</td>\n",
       "    </tr>\n",
       "    <tr>\n",
       "      <th>1</th>\n",
       "      <td>2024-12-30</td>\n",
       "      <td>516</td>\n",
       "      <td>Nashik</td>\n",
       "      <td>Wheat</td>\n",
       "      <td>Maharashtra</td>\n",
       "      <td>2838.60</td>\n",
       "      <td>2705.00</td>\n",
       "      <td>2938.20</td>\n",
       "      <td>Daily</td>\n",
       "      <td>-97.40</td>\n",
       "    </tr>\n",
       "    <tr>\n",
       "      <th>2</th>\n",
       "      <td>2024-12-28</td>\n",
       "      <td>516</td>\n",
       "      <td>Nashik</td>\n",
       "      <td>Wheat</td>\n",
       "      <td>Maharashtra</td>\n",
       "      <td>2936.00</td>\n",
       "      <td>2368.50</td>\n",
       "      <td>3116.00</td>\n",
       "      <td>Daily</td>\n",
       "      <td>145.67</td>\n",
       "    </tr>\n",
       "    <tr>\n",
       "      <th>3</th>\n",
       "      <td>2024-12-27</td>\n",
       "      <td>516</td>\n",
       "      <td>Nashik</td>\n",
       "      <td>Wheat</td>\n",
       "      <td>Maharashtra</td>\n",
       "      <td>2790.33</td>\n",
       "      <td>2690.33</td>\n",
       "      <td>2993.33</td>\n",
       "      <td>Daily</td>\n",
       "      <td>-182.87</td>\n",
       "    </tr>\n",
       "    <tr>\n",
       "      <th>4</th>\n",
       "      <td>2024-12-26</td>\n",
       "      <td>516</td>\n",
       "      <td>Nashik</td>\n",
       "      <td>Wheat</td>\n",
       "      <td>Maharashtra</td>\n",
       "      <td>2973.20</td>\n",
       "      <td>2735.80</td>\n",
       "      <td>3100.60</td>\n",
       "      <td>Daily</td>\n",
       "      <td>152.20</td>\n",
       "    </tr>\n",
       "  </tbody>\n",
       "</table>\n",
       "</div>"
      ],
      "text/plain": [
       "         date  district_id district_name commodity_name   state_name  \\\n",
       "0  2024-12-31          516        Nashik          Wheat  Maharashtra   \n",
       "1  2024-12-30          516        Nashik          Wheat  Maharashtra   \n",
       "2  2024-12-28          516        Nashik          Wheat  Maharashtra   \n",
       "3  2024-12-27          516        Nashik          Wheat  Maharashtra   \n",
       "4  2024-12-26          516        Nashik          Wheat  Maharashtra   \n",
       "\n",
       "   avg_modal_price  avg_min_price  avg_max_price calculationType  change  \n",
       "0          2995.25        2781.00        3216.50           Daily  156.65  \n",
       "1          2838.60        2705.00        2938.20           Daily  -97.40  \n",
       "2          2936.00        2368.50        3116.00           Daily  145.67  \n",
       "3          2790.33        2690.33        2993.33           Daily -182.87  \n",
       "4          2973.20        2735.80        3100.60           Daily  152.20  "
      ]
     },
     "execution_count": 34,
     "metadata": {},
     "output_type": "execute_result"
    }
   ],
   "source": [
    "df.head()"
   ]
  },
  {
   "cell_type": "code",
   "execution_count": 35,
   "metadata": {},
   "outputs": [
    {
     "name": "stdout",
     "output_type": "stream",
     "text": [
      "<class 'pandas.core.frame.DataFrame'>\n",
      "RangeIndex: 283 entries, 0 to 282\n",
      "Data columns (total 10 columns):\n",
      " #   Column           Non-Null Count  Dtype  \n",
      "---  ------           --------------  -----  \n",
      " 0   date             283 non-null    object \n",
      " 1   district_id      283 non-null    int64  \n",
      " 2   district_name    283 non-null    object \n",
      " 3   commodity_name   283 non-null    object \n",
      " 4   state_name       283 non-null    object \n",
      " 5   avg_modal_price  283 non-null    float64\n",
      " 6   avg_min_price    283 non-null    float64\n",
      " 7   avg_max_price    283 non-null    float64\n",
      " 8   calculationType  283 non-null    object \n",
      " 9   change           282 non-null    float64\n",
      "dtypes: float64(4), int64(1), object(5)\n",
      "memory usage: 22.2+ KB\n"
     ]
    }
   ],
   "source": [
    "df.info()"
   ]
  },
  {
   "cell_type": "code",
   "execution_count": 36,
   "metadata": {},
   "outputs": [],
   "source": [
    "df= df.dropna()"
   ]
  },
  {
   "cell_type": "code",
   "execution_count": 37,
   "metadata": {},
   "outputs": [],
   "source": [
    "\n",
    "df['date_n'] = pd.to_datetime(df['date']).dt.day\n",
    "df['month'] = pd.to_datetime(df['date']).dt.month\n",
    "df['year'] = pd.to_datetime(df['date']).dt.year\n",
    "\n",
    "df.drop('date', axis=1, inplace=True)\n",
    "df['date'] = df['date_n']\n",
    "df.drop('date_n', axis=1, inplace=True)"
   ]
  },
  {
   "cell_type": "code",
   "execution_count": 38,
   "metadata": {},
   "outputs": [],
   "source": [
    " df.fillna('interpolate' , inplace=True)"
   ]
  },
  {
   "cell_type": "code",
   "execution_count": 45,
   "metadata": {},
   "outputs": [],
   "source": [
    "# columns = ['district_name' , 'commodity_name' , 'state_name']\n",
    "\n",
    "# for col in columns:\n",
    "#     frequency_encoding = df[col].value_counts()\n",
    "#     df[f'{col}_enc'] = df[col].map(frequency_encoding)\n",
    "\n",
    "# df.drop(columns=columns , axis=1 , inplace=True)\n",
    "df.drop(columns=['calculationType' , 'district_id' , 'change'] , axis=1 , inplace=True)"
   ]
  },
  {
   "cell_type": "code",
   "execution_count": 41,
   "metadata": {},
   "outputs": [
    {
     "name": "stderr",
     "output_type": "stream",
     "text": [
      "C:\\Users\\Shiva\\AppData\\Local\\Temp\\ipykernel_7956\\687945468.py:2: FutureWarning: Downcasting behavior in `replace` is deprecated and will be removed in a future version. To retain the old behavior, explicitly call `result.infer_objects(copy=False)`. To opt-in to the future behavior, set `pd.set_option('future.no_silent_downcasting', True)`\n",
      "  df['district_name'] = df['district_name'].replace({\"Nashik\": 6291}).astype(int)\n",
      "C:\\Users\\Shiva\\AppData\\Local\\Temp\\ipykernel_7956\\687945468.py:3: FutureWarning: Downcasting behavior in `replace` is deprecated and will be removed in a future version. To retain the old behavior, explicitly call `result.infer_objects(copy=False)`. To opt-in to the future behavior, set `pd.set_option('future.no_silent_downcasting', True)`\n",
      "  df['state_name'] = df['state_name'].replace({\"Maharashtra\": 6291}).astype(int)\n"
     ]
    }
   ],
   "source": [
    "df['commodity_name'] = df['commodity_name'].replace({\"Wheat\": 6291}).astype(int)\n",
    "df['district_name'] = df['district_name'].replace({\"Nashik\": 6291}).astype(int)\n",
    "df['state_name'] = df['state_name'].replace({\"Maharashtra\": 6291}).astype(int)"
   ]
  },
  {
   "cell_type": "code",
   "execution_count": 46,
   "metadata": {},
   "outputs": [
    {
     "name": "stdout",
     "output_type": "stream",
     "text": [
      "<class 'pandas.core.frame.DataFrame'>\n",
      "Index: 282 entries, 0 to 281\n",
      "Data columns (total 9 columns):\n",
      " #   Column           Non-Null Count  Dtype  \n",
      "---  ------           --------------  -----  \n",
      " 0   district_name    282 non-null    int64  \n",
      " 1   commodity_name   282 non-null    int64  \n",
      " 2   state_name       282 non-null    int64  \n",
      " 3   avg_modal_price  282 non-null    float64\n",
      " 4   avg_min_price    282 non-null    float64\n",
      " 5   avg_max_price    282 non-null    float64\n",
      " 6   month            282 non-null    int32  \n",
      " 7   year             282 non-null    int32  \n",
      " 8   date             282 non-null    int32  \n",
      "dtypes: float64(3), int32(3), int64(3)\n",
      "memory usage: 18.7 KB\n"
     ]
    }
   ],
   "source": [
    "df.info()"
   ]
  },
  {
   "cell_type": "code",
   "execution_count": 47,
   "metadata": {},
   "outputs": [
    {
     "data": {
      "text/html": [
       "<div>\n",
       "<style scoped>\n",
       "    .dataframe tbody tr th:only-of-type {\n",
       "        vertical-align: middle;\n",
       "    }\n",
       "\n",
       "    .dataframe tbody tr th {\n",
       "        vertical-align: top;\n",
       "    }\n",
       "\n",
       "    .dataframe thead th {\n",
       "        text-align: right;\n",
       "    }\n",
       "</style>\n",
       "<table border=\"1\" class=\"dataframe\">\n",
       "  <thead>\n",
       "    <tr style=\"text-align: right;\">\n",
       "      <th></th>\n",
       "      <th>district_name</th>\n",
       "      <th>commodity_name</th>\n",
       "      <th>state_name</th>\n",
       "      <th>avg_modal_price</th>\n",
       "      <th>avg_min_price</th>\n",
       "      <th>avg_max_price</th>\n",
       "      <th>month</th>\n",
       "      <th>year</th>\n",
       "      <th>date</th>\n",
       "    </tr>\n",
       "  </thead>\n",
       "  <tbody>\n",
       "    <tr>\n",
       "      <th>0</th>\n",
       "      <td>6291</td>\n",
       "      <td>6291</td>\n",
       "      <td>6291</td>\n",
       "      <td>2995.25</td>\n",
       "      <td>2781.00</td>\n",
       "      <td>3216.50</td>\n",
       "      <td>12</td>\n",
       "      <td>2024</td>\n",
       "      <td>31</td>\n",
       "    </tr>\n",
       "    <tr>\n",
       "      <th>1</th>\n",
       "      <td>6291</td>\n",
       "      <td>6291</td>\n",
       "      <td>6291</td>\n",
       "      <td>2838.60</td>\n",
       "      <td>2705.00</td>\n",
       "      <td>2938.20</td>\n",
       "      <td>12</td>\n",
       "      <td>2024</td>\n",
       "      <td>30</td>\n",
       "    </tr>\n",
       "    <tr>\n",
       "      <th>2</th>\n",
       "      <td>6291</td>\n",
       "      <td>6291</td>\n",
       "      <td>6291</td>\n",
       "      <td>2936.00</td>\n",
       "      <td>2368.50</td>\n",
       "      <td>3116.00</td>\n",
       "      <td>12</td>\n",
       "      <td>2024</td>\n",
       "      <td>28</td>\n",
       "    </tr>\n",
       "    <tr>\n",
       "      <th>3</th>\n",
       "      <td>6291</td>\n",
       "      <td>6291</td>\n",
       "      <td>6291</td>\n",
       "      <td>2790.33</td>\n",
       "      <td>2690.33</td>\n",
       "      <td>2993.33</td>\n",
       "      <td>12</td>\n",
       "      <td>2024</td>\n",
       "      <td>27</td>\n",
       "    </tr>\n",
       "    <tr>\n",
       "      <th>4</th>\n",
       "      <td>6291</td>\n",
       "      <td>6291</td>\n",
       "      <td>6291</td>\n",
       "      <td>2973.20</td>\n",
       "      <td>2735.80</td>\n",
       "      <td>3100.60</td>\n",
       "      <td>12</td>\n",
       "      <td>2024</td>\n",
       "      <td>26</td>\n",
       "    </tr>\n",
       "  </tbody>\n",
       "</table>\n",
       "</div>"
      ],
      "text/plain": [
       "   district_name  commodity_name  state_name  avg_modal_price  avg_min_price  \\\n",
       "0           6291            6291        6291          2995.25        2781.00   \n",
       "1           6291            6291        6291          2838.60        2705.00   \n",
       "2           6291            6291        6291          2936.00        2368.50   \n",
       "3           6291            6291        6291          2790.33        2690.33   \n",
       "4           6291            6291        6291          2973.20        2735.80   \n",
       "\n",
       "   avg_max_price  month  year  date  \n",
       "0        3216.50     12  2024    31  \n",
       "1        2938.20     12  2024    30  \n",
       "2        3116.00     12  2024    28  \n",
       "3        2993.33     12  2024    27  \n",
       "4        3100.60     12  2024    26  "
      ]
     },
     "execution_count": 47,
     "metadata": {},
     "output_type": "execute_result"
    }
   ],
   "source": [
    "import pandas as pd\n",
    "\n",
    "def remove_outliers_iqr(df):\n",
    "    Q1 = df.quantile(0.25)\n",
    "    Q3 = df.quantile(0.75)\n",
    "    IQR = Q3 - Q1\n",
    "    return df[~((df < (Q1 - 1.5 * IQR)) | (df > (Q3 + 1.5 * IQR))).any(axis=1)]\n",
    "\n",
    "\n",
    "df = remove_outliers_iqr(df)\n",
    "\n",
    "df.head()"
   ]
  },
  {
   "cell_type": "code",
   "execution_count": 48,
   "metadata": {},
   "outputs": [],
   "source": [
    "df.to_csv('edited_nashik_test_2024.csv')"
   ]
  },
  {
   "cell_type": "code",
   "execution_count": null,
   "metadata": {},
   "outputs": [],
   "source": []
  }
 ],
 "metadata": {
  "kernelspec": {
   "display_name": "Python 3",
   "language": "python",
   "name": "python3"
  },
  "language_info": {
   "codemirror_mode": {
    "name": "ipython",
    "version": 3
   },
   "file_extension": ".py",
   "mimetype": "text/x-python",
   "name": "python",
   "nbconvert_exporter": "python",
   "pygments_lexer": "ipython3",
   "version": "3.10.16"
  }
 },
 "nbformat": 4,
 "nbformat_minor": 2
}
